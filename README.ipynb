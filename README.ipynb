{
 "cells": [
  {
   "cell_type": "markdown",
   "metadata": {},
   "source": [
    "# Como configurar/instalar/usar o `remmina` no `Linux Ubuntu`\n",
    "\n",
    "## Resumo\n",
    "\n",
    "Neste documento estão contidos os principais comandos e configurações para configurar/instalar/usar o `remmina` no `Linux Ubuntu`.\n",
    "\n",
    "## _Abstract_\n",
    "\n",
    "_This document contains the main commands and settings for configuring/installing/using the `remmina` on `Linux Ubuntu`._\n"
   ]
  },
  {
   "cell_type": "markdown",
   "metadata": {},
   "source": [
    "## Descrição [2]\n",
    "\n",
    "### `remmina`\n",
    "\n",
    "`Remmina` é um cliente de desktop remoto de código aberto que suporta vários protocolos, como `RDP`, `VNC`, `SSH`, `NX`, `XDMCP` e `SPICE`. Ele oferece uma interface intuitiva e fácil de usar para acessar e controlar sistemas remotos de forma segura. Com recursos avançados, como suporte a vários perfis de conexão, compartilhamento de área de trabalho e redimensionamento dinâmico, `Remmina` é uma ferramenta versátil para administradores de sistemas e usuários que precisam acessar máquinas remotas de maneira eficiente e conveniente.\n"
   ]
  },
  {
   "cell_type": "markdown",
   "metadata": {},
   "source": [
    "## 1. Como configurar/instalar/usar o `remmina` no `Linux Ubuntu` [1][3]\n",
    "\n",
    "Para configurar/instalar/usar o `remmina` no `Linux Ubuntu`, você pode seguir estes passos:\n",
    "\n",
    "1. Abra o `Terminal Emulator`. Você pode fazer isso pressionando: `Ctrl + Alt + T`"
   ]
  },
  {
   "cell_type": "markdown",
   "metadata": {},
   "source": [
    "2. Certifique-se de que seu sistema esteja limpo e atualizado.\n",
    "\n",
    "    2.1 Limpar o `cache` do gerenciador de pacotes `apt`. Especificamente, ele remove todos os arquivos de pacotes (`.deb`) baixados pelo `apt` e armazenados em `/var/cache/apt/archives/`. Digite o seguinte comando: `sudo apt clean` \n",
    "    \n",
    "    2.2 Remover pacotes `.deb` antigos ou duplicados do cache local. É útil para liberar espaço, pois remove apenas os pacotes que não podem mais ser baixados (ou seja, versões antigas de pacotes que foram atualizados). Digite o seguinte comando: `sudo apt autoclean`\n",
    "\n",
    "    2.3 Remover pacotes que foram automaticamente instalados para satisfazer as dependências de outros pacotes e que não são mais necessários. Digite o seguinte comando: `sudo apt autoremove -y`\n",
    "\n",
    "    2.4 Buscar as atualizações disponíveis para os pacotes que estão instalados em seu sistema. Digite o seguinte comando e pressione `Enter`: `sudo apt update`\n",
    "\n",
    "    2.5 **Corrigir pacotes quebrados**: Isso atualizará a lista de pacotes disponíveis e tentará corrigir pacotes quebrados ou com dependências ausentes: `sudo apt --fix-broken install`\n",
    "\n",
    "    2.6 Limpar o `cache` do gerenciador de pacotes `apt`. Especificamente, ele remove todos os arquivos de pacotes (`.deb`) baixados pelo `apt` e armazenados em `/var/cache/apt/archives/`. Digite o seguinte comando: `sudo apt clean` \n",
    "    \n",
    "    2.7 Para ver a lista de pacotes a serem atualizados, digite o seguinte comando e pressione `Enter`:  `sudo apt list --upgradable`\n",
    "\n",
    "    2.8 Realmente atualizar os pacotes instalados para as suas versões mais recentes, com base na última vez que você executou `sudo apt update`. Digite o seguinte comando e pressione `Enter`: `sudo apt full-upgrade -y`\n",
    "    "
   ]
  },
  {
   "cell_type": "markdown",
   "metadata": {},
   "source": [
    "Para instalar o `Remmina` no `Linux Ubuntu` pelo Terminal, você pode seguir os seguintes passos. O `Remmina` é uma aplicação de desktop remoto para sistemas baseados em `Linux` que suporta protocolos como RDP, VNC, SPICE, entre outros. Aqui está como você pode fazer:\n",
    "\n",
    "1. Primeiro, vamos adicionar o PPA do `Remmina` ao seu sistema para garantir que você tenha a versão mais recente. Execute o seguinte comando: `sudo apt-add-repository ppa:remmina-ppa-team/remmina-next -y`\n",
    "\n",
    "    Este comando adiciona o PPA (Personal Package Archive) oficial do `Remmina` ao seu sistema, o que permite que você instale a versão mais atualizada.\n",
    "\n",
    "2. Atualize o índice do pacote do seu sistema para refletir as novas adições do PPA. Para isso, use o comando: `sudo apt update -y`\n",
    "\n",
    "    Este comando sincroniza a lista de pacotes disponíveis para instalação com os repositórios definidos no sistema, incluindo o PPA do Remmina que você acabou de adicionar.\n",
    "\n",
    "3. Agora, você está pronto para instalar o `Remmina`. Execute o seguinte comando para iniciar a instalação: `sudo apt install remmina remmina-plugin-rdp remmina-plugin-secret`\n",
    "    \n",
    "    Este comando instala o aplicativo `Remmina` juntamente com plugins para suporte a RDP (Remote Desktop Protocol) e para gerenciamento de senhas seguras (plugin secret).\n",
    "\n",
    "Depois de completar esses passos, o `Remmina` estará instalado no seu sistema Ubuntu e pronto para ser usado. Você pode iniciar o `Remmina` procurando-o no menu de aplicações ou executando remmina no `Terminal Emulator`."
   ]
  },
  {
   "cell_type": "markdown",
   "metadata": {
    "vscode": {
     "languageId": "plaintext"
    }
   },
   "source": [
    "### 1.1 Código completo para configurar/instalar/usar\n",
    "\n",
    "Para configurar/instalar/usar o `remmina` no `Linux Ubuntu` sem precisar digitar linha por linha, você pode seguir estas etapas:\n",
    "\n",
    "1. Abra o `Terminal Emulator`. Você pode fazer isso pressionando: `Ctrl + Alt + T`\n",
    "\n",
    "2. Digite o seguinte comando e pressione `Enter`:\n",
    "\n",
    "    ```\n",
    "    sudo apt clean                                                            \n",
    "    sudo apt autoclean\n",
    "    sudo apt autoremove -y\n",
    "    sudo apt update\n",
    "    sudo apt --fix-broken install\n",
    "    sudo apt clean\n",
    "    sudo apt list --upgradable\n",
    "    sudo apt full-upgrade -y\n",
    "    sudo apt-add-repository ppa:remmina-ppa-team/remmina-next -y\n",
    "    sudo apt update\n",
    "    sudo apt install remmina remmina-plugin-rdp remmina-plugin-secret -y\n",
    "    ```\n"
   ]
  },
  {
   "cell_type": "markdown",
   "metadata": {
    "vscode": {
     "languageId": "plaintext"
    }
   },
   "source": [
    "## Referências\n",
    "\n",
    "[1] OPENAI. ***Instalar remmina no ubuntu.*** Disponível em: <https://chat.openai.com/c/586f8f0a-8543-4d9f-9f60-98a2fb51a611> (texto adaptado). Acessado em: 05/04/2023 17:11.\n",
    "\n",
    "[2] OPENAI. ***Vs code: editor popular.*** Disponível em: <https://chat.openai.com/c/b640a25d-f8e3-4922-8a3b-ed74a2657e42> (texto adaptado). Acessado em: 05/04/2024 17:10.\n"
   ]
  }
 ],
 "metadata": {
  "kernelspec": {
   "display_name": "Python 3",
   "language": "python",
   "name": "python3"
  },
  "language_info": {
   "codemirror_mode": {
    "name": "ipython",
    "version": 3
   },
   "file_extension": ".py",
   "mimetype": "text/x-python",
   "name": "python",
   "nbconvert_exporter": "python",
   "pygments_lexer": "ipython3",
   "version": "3.11.8"
  },
  "orig_nbformat": 4
 },
 "nbformat": 4,
 "nbformat_minor": 2
}
